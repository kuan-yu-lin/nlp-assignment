{
 "cells": [
  {
   "cell_type": "raw",
   "metadata": {},
   "source": [
    "1.1.\n",
    "What are the core default modules available in Python? List down a few of them and explain their functionalities."
   ]
  },
  {
   "cell_type": "code",
   "execution_count": 3,
   "metadata": {},
   "outputs": [
    {
     "name": "stdout",
     "output_type": "stream",
     "text": [
      "\n",
      "Please wait a moment while I gather a list of all available modules...\n",
      "\n",
      "Crypto              brain_hashlib       itertools           readline\n",
      "Cython              brain_http          itsdangerous        reprlib\n",
      "IPython             brain_io            jdcal               requests\n",
      "OpenSSL             brain_mechanize     jedi                resource\n",
      "PIL                 brain_multiprocessing jinja2              rlcompleter\n",
      "PyQt5               brain_namedtuple_enum joblib              rmagic\n",
      "__future__          brain_nose          json                rope\n",
      "_abc                brain_numpy_core_fromnumeric json5               ruamel_yaml\n",
      "_ast                brain_numpy_core_function_base jsonschema          runpy\n",
      "_asyncio            brain_numpy_core_multiarray jupyter             sched\n",
      "_bisect             brain_numpy_core_numeric jupyter_client      scipy\n",
      "_blake2             brain_numpy_core_numerictypes jupyter_console     scripts\n",
      "_bootlocale         brain_numpy_core_umath jupyter_core        seaborn\n",
      "_bz2                brain_numpy_ndarray jupyterlab          secrets\n",
      "_cffi_backend       brain_numpy_random_mtrand jupyterlab_server   select\n",
      "_codecs             brain_numpy_utils   keyring             selectors\n",
      "_codecs_cn          brain_pkg_resources keyword             send2trash\n",
      "_codecs_hk          brain_pytest        kiwisolver          setuptools\n",
      "_codecs_iso2022     brain_qt            lazy_object_proxy   shelve\n",
      "_codecs_jp          brain_random        lib2to3             shlex\n",
      "_codecs_kr          brain_re            libarchive          shutil\n",
      "_codecs_tw          brain_six           libfuturize         signal\n",
      "_collections        brain_ssl           libpasteurize       simplegeneric\n",
      "_collections_abc    brain_subprocess    lief                singledispatch\n",
      "_compat_pickle      brain_threading     linecache           singledispatch_helpers\n",
      "_compression        brain_typing        llvmlite            sip\n",
      "_contextvars        brain_uuid          locale              sipconfig\n",
      "_crypt              bs4                 locket              sipdistutils\n",
      "_csv                builtins            logging             site\n",
      "_ctypes             bz2                 lxml                six\n",
      "_ctypes_test        cProfile            lzma                skimage\n",
      "_curses             calendar            macpath             sklearn\n",
      "_curses_panel       certifi             mactypes            smtpd\n",
      "_datetime           cffi                mailbox             smtplib\n",
      "_dbm                cgi                 mailcap             sndhdr\n",
      "_decimal            cgitb               markupsafe          snowballstemmer\n",
      "_dummy_thread       chardet             marshal             socket\n",
      "_elementtree        chunk               math                socketserver\n",
      "_functools          click               matplotlib          socks\n",
      "_hashlib            cloudpickle         mccabe              sockshandler\n",
      "_heapq              clyent              mimetypes           sortedcollections\n",
      "_imp                cmath               mistune             sortedcontainers\n",
      "_io                 cmd                 mkl                 soupsieve\n",
      "_json               code                mkl_fft             sphinx\n",
      "_locale             codecs              mkl_random          sphinxcontrib\n",
      "_lsprof             codeop              mmap                sphinxify\n",
      "_lzma               collections         mock                spyder\n",
      "_markupbase         colorama            modulefinder        spyder_breakpoints\n",
      "_md5                colorsys            more_itertools      spyder_io_dcm\n",
      "_multibytecodec     compileall          mpmath              spyder_io_hdf5\n",
      "_multiprocessing    concurrent          msgpack             spyder_kernels\n",
      "_opcode             conda               multipledispatch    spyder_profiler\n",
      "_operator           conda_build         multiprocessing     spyder_pylint\n",
      "_osx_support        conda_env           navigator_updater   sqlalchemy\n",
      "_pickle             conda_package_handling nbconvert           sqlite3\n",
      "_posixsubprocess    conda_verify        nbformat            sre_compile\n",
      "_py_abc             conf                netrc               sre_constants\n",
      "_pydecimal          configparser        networkx            sre_parse\n",
      "_pyio               contextlib          nis                 ssl\n",
      "_pylief             contextlib2         nltk                stat\n",
      "_pyrsistent_version contextvars         nntplib             statistics\n",
      "_pytest             copy                nose                statsmodels\n",
      "_queue              copyreg             notebook            storemagic\n",
      "_random             crypt               ntpath              string\n",
      "_scproxy            cryptography        nturl2path          stringprep\n",
      "_sha1               csv                 numba               struct\n",
      "_sha256             ctypes              numbers             subprocess\n",
      "_sha3               curl                numexpr             sunau\n",
      "_sha512             curses              numpy               symbol\n",
      "_signal             cycler              numpydoc            sympy\n",
      "_sitebuiltins       cython              olefile             sympyprinting\n",
      "_socket             cythonmagic         opcode              symtable\n",
      "_sqlite3            cytoolz             openpyxl            sys\n",
      "_sre                dask                operator            sysconfig\n",
      "_ssl                dataclasses         optparse            syslog\n",
      "_stat               datetime            os                  tables\n",
      "_string             dateutil            osax                tabnanny\n",
      "_strptime           dbm                 packaging           tarfile\n",
      "_struct             decimal             pandas              tblib\n",
      "_symtable           decorator           pandocfilters       telnetlib\n",
      "_sysconfigdata_i686_conda_cos6_linux_gnu defusedxml          parser              tempfile\n",
      "_sysconfigdata_m_darwin_darwin difflib             parso               terminado\n",
      "_sysconfigdata_powerpc64le_conda_cos7_linux_gnu dis                 partd               termios\n",
      "_sysconfigdata_x86_64_apple_darwin13_4_0 distributed         past                test\n",
      "_sysconfigdata_x86_64_conda_cos6_linux_gnu distutils           path                test_data\n",
      "_testbuffer         doctest             pathlib             test_pycosat\n",
      "_testcapi           docutils            pathlib2            testpath\n",
      "_testimportmultiple dummy_threading     patsy               tests\n",
      "_testmultiphase     easy_install        pdb                 textwrap\n",
      "_thread             email               pep8                this\n",
      "_threading_local    encodings           pexpect             threading\n",
      "_tkinter            ensurepip           pickle              time\n",
      "_tracemalloc        entrypoints         pickleshare         timeit\n",
      "_uuid               enum                pickletools         tkinter\n",
      "_warnings           errno               pip                 tlz\n",
      "_weakref            et_xmlfile          pipes               token\n",
      "_weakrefset         fastcache           pkg_resources       tokenize\n",
      "_xxtestfuzz         faulthandler        pkginfo             toolz\n",
      "_yaml               fcntl               pkgutil             tornado\n",
      "abc                 filecmp             platform            tqdm\n",
      "aem                 fileinput           plistlib            trace\n",
      "aifc                filelock            pluggy              traceback\n",
      "alabaster           flask               ply                 tracemalloc\n",
      "anaconda_navigator  fnmatch             poplib              traitlets\n",
      "anaconda_project    formatter           posix               tty\n",
      "antigravity         fractions           posixpath           turtle\n",
      "appnope             fsspec              pprint              turtledemo\n",
      "appscript           ftplib              profile             types\n",
      "argparse            functools           prometheus_client   typing\n",
      "array               future              prompt_toolkit      unicodecsv\n",
      "asn1crypto          gc                  pstats              unicodedata\n",
      "ast                 genericpath         psutil              unittest\n",
      "astroid             getopt              pty                 urllib\n",
      "astropy             getpass             ptyprocess          urllib3\n",
      "asynchat            gettext             pvectorc            uu\n",
      "asyncio             gevent              pwd                 uuid\n",
      "asyncore            glob                py                  venv\n",
      "atexit              glob2               py_compile          warnings\n",
      "atomicwrites        gmpy2               pyclbr              wave\n",
      "attr                greenlet            pycodestyle         wcwidth\n",
      "audioop             grp                 pycosat             weakref\n",
      "autoreload          gzip                pycparser           webbrowser\n",
      "babel               h5py                pycurl              webencodings\n",
      "backcall            hashlib             pydoc               werkzeug\n",
      "backports           heapdict            pydoc_data          wheel\n",
      "base64              heapq               pyexpat             widgetsnbextension\n",
      "bdb                 hmac                pyflakes            wrapt\n",
      "binascii            html                pygments            wsgiref\n",
      "binhex              html5lib            pylab               wurlitzer\n",
      "binstar_client      http                pylint              xdrlib\n",
      "bisect              idlelib             pyodbc              xlrd\n",
      "bitarray            idna                pyparsing           xlsxwriter\n",
      "bkcharts            imageio             pyrsistent          xlwings\n",
      "bleach              imagesize           pytest              xlwt\n",
      "bokeh               imaplib             pytest_arraydiff    xml\n",
      "boto                imghdr              pytest_doctestplus  xmlrpc\n",
      "bottleneck          imp                 pytest_openfiles    xxlimited\n",
      "brain_argparse      importlib           pytest_remotedata   xxsubtype\n",
      "brain_attrs         importlib_metadata  pytz                yaml\n",
      "brain_builtin_inference inspect             pywt                zict\n",
      "brain_collections   io                  pyximport           zipapp\n",
      "brain_crypt         ipaddress           qtawesome           zipfile\n",
      "brain_curses        ipykernel           qtconsole           zipimport\n",
      "brain_dataclasses   ipykernel_launcher  qtpy                zipp\n",
      "brain_dateutil      ipython_genutils    queue               zlib\n",
      "brain_fstrings      ipywidgets          quopri              zmq\n",
      "brain_functools     isort               random              \n",
      "brain_gi            isympy              re                  \n",
      "\n",
      "Enter any module name to get more help.  Or, type \"modules spam\" to search\n",
      "for modules whose name or summary contain the string \"spam\".\n",
      "\n"
     ]
    }
   ],
   "source": [
    "help(\"modules\")"
   ]
  },
  {
   "cell_type": "raw",
   "metadata": {},
   "source": [
    "1.2.\n",
    "Assuming that you have not installed the modulel numpy in your system. How to install the module?"
   ]
  },
  {
   "cell_type": "code",
   "execution_count": null,
   "metadata": {},
   "outputs": [],
   "source": [
    "# install numpy with CMD\n",
    "# pip install numpy"
   ]
  },
  {
   "cell_type": "raw",
   "metadata": {},
   "source": [
    "1.3.\n",
    "In Jupyter Notebook, how to get the documentation for the python objects you are working with?"
   ]
  },
  {
   "cell_type": "code",
   "execution_count": 55,
   "metadata": {},
   "outputs": [
    {
     "name": "stdout",
     "output_type": "stream",
     "text": [
      "Help on built-in function sorted in module builtins:\n",
      "\n",
      "sorted(iterable, /, *, key=None, reverse=False)\n",
      "    Return a new list containing all items from the iterable in ascending order.\n",
      "    \n",
      "    A custom key function can be supplied to customize the sort order, and the\n",
      "    reverse flag can be set to request the result in descending order.\n",
      "\n"
     ]
    }
   ],
   "source": [
    "# using help() function\n",
    "# for example, if we want to know the function of \"sorted\", we may use the function \n",
    "help(sorted)"
   ]
  },
  {
   "cell_type": "raw",
   "metadata": {},
   "source": [
    "1.4.\n",
    "Demonstrate how to subset and slice a list in Python with examples."
   ]
  },
  {
   "cell_type": "code",
   "execution_count": 10,
   "metadata": {},
   "outputs": [
    {
     "name": "stdout",
     "output_type": "stream",
     "text": [
      "Subset the fruit list: ['mango', 'watermelon', 'pineapple', 'cantaloupe']\n"
     ]
    }
   ],
   "source": [
    "fruit = [\"kiwi\", \"mango\", \"watermelon\", \"pineapple\", \"cantaloupe\"]\n",
    "print('Subset the fruit list: {}'.format(fruit[1:5]))"
   ]
  },
  {
   "cell_type": "raw",
   "metadata": {},
   "source": [
    "1.5.\n",
    "What are the different ways to generate random numbers? Demonstrate at least the following two ways of random number generation.\n",
    "\n",
    "Generate a random number between 0 and 1\n",
    "Generate a random integer between 0 and 100"
   ]
  },
  {
   "cell_type": "code",
   "execution_count": 13,
   "metadata": {},
   "outputs": [
    {
     "name": "stdout",
     "output_type": "stream",
     "text": [
      "Generate a random number between 0 and 1: 0.05865503600796507\n",
      "Generate a random integer between 0 and 100: 96\n"
     ]
    }
   ],
   "source": [
    "import random\n",
    "print('Generate a random number between 0 and 1: {}'.format(random.uniform(0, 1)))\n",
    "print('Generate a random integer between 0 and 100: {}'.format(random.randint(0, 100)))"
   ]
  },
  {
   "cell_type": "raw",
   "metadata": {},
   "source": [
    "1.6.\n",
    "A dict is provided below. Please demonstrate how to sort the dictionary by (a) its key, and (b) its values in an descending order.\n",
    "    example = {'e':10, 'a':22, 'h':17}\n",
    "\n",
    "The expected results:\n",
    "# According to key:\n",
    "    [('h', 17), ('e', 10), ('a', 22)]\n",
    "# According to value:\n",
    "    [('a', 22), ('h', 17), ('e', 10)]"
   ]
  },
  {
   "cell_type": "code",
   "execution_count": 67,
   "metadata": {},
   "outputs": [
    {
     "name": "stdout",
     "output_type": "stream",
     "text": [
      "(a) Sort the dictionary by its key: [('h', 17), ('e', 10), ('a', 22)]\n",
      "(b) Sort the dictionary by its value: [('a', 22), ('h', 17), ('e', 10)]\n"
     ]
    }
   ],
   "source": [
    "# function calling\n",
    "def dictionairy(): \n",
    "    \n",
    "    # Declaring the hash function      \n",
    "    example = {'e':10, 'a':22, 'h':17}    \n",
    "    sortedKey = {}\n",
    "    sortedValue = {}\n",
    "  \n",
    "    # sorted(key_value) returns an iterator over the Dictionary’s value sorted in keys.  \n",
    "    sortedKey = sorted(example.items(), reverse = True)\n",
    "    \n",
    "    print(\"(a) Sort the dictionary by its key: {}\".format(sortedKey))\n",
    "   \n",
    "    # Note that it will sort in lexicographical order\n",
    "    # For mathematical way, change it to float\n",
    "    sortedValue = sorted(example.items(), key = lambda ex: ex[1], reverse = True)\n",
    "    \n",
    "    print(\"(b) Sort the dictionary by its value: {}\".format(sortedValue))\n",
    "  \n",
    "dictionairy()"
   ]
  },
  {
   "cell_type": "raw",
   "metadata": {},
   "source": [
    "1.7.\n",
    "How do we remove the duplicate elements from the list given below?\n",
    "    words = [‘one’, ‘one’, ‘two’, ‘three’, ‘three’, ‘two’]\n",
    "\n",
    "The expected output:\n",
    "    ['two', 'one', 'three']"
   ]
  },
  {
   "cell_type": "code",
   "execution_count": 46,
   "metadata": {},
   "outputs": [
    {
     "name": "stdout",
     "output_type": "stream",
     "text": [
      "['one', 'two', 'three']\n"
     ]
    }
   ],
   "source": [
    "words = [\"one\", \"one\", \"two\", \"three\", \"three\", \"two\"]\n",
    "noDuplicateWords = []\n",
    "\n",
    "[noDuplicateWords.append(w) for w in words if w not in noDuplicateWords]\n",
    "print(noDuplicateWords)"
   ]
  },
  {
   "cell_type": "raw",
   "metadata": {},
   "source": [
    "1.8.\n",
    "How to convert the strings 123 and 456.6 into numbers?"
   ]
  },
  {
   "cell_type": "code",
   "execution_count": 50,
   "metadata": {},
   "outputs": [
    {
     "data": {
      "text/plain": [
       "123"
      ]
     },
     "execution_count": 50,
     "metadata": {},
     "output_type": "execute_result"
    }
   ],
   "source": [
    "int(\"123\")"
   ]
  },
  {
   "cell_type": "code",
   "execution_count": 51,
   "metadata": {},
   "outputs": [
    {
     "data": {
      "text/plain": [
       "456.6"
      ]
     },
     "execution_count": 51,
     "metadata": {},
     "output_type": "execute_result"
    }
   ],
   "source": [
    "float(\"456.6\")"
   ]
  },
  {
   "cell_type": "raw",
   "metadata": {},
   "source": [
    "1.9.\n",
    "How to get the full path to the current working directory of your project in Python?"
   ]
  },
  {
   "cell_type": "code",
   "execution_count": 56,
   "metadata": {},
   "outputs": [
    {
     "data": {
      "text/plain": [
       "'/Users/linkuanyu/Desktop/python-nlp-assignment'"
      ]
     },
     "execution_count": 56,
     "metadata": {},
     "output_type": "execute_result"
    }
   ],
   "source": [
    "import os\n",
    "os.getcwd()"
   ]
  },
  {
   "cell_type": "raw",
   "metadata": {},
   "source": [
    "1.10.\n",
    "How to get all the names of the files in the current working directory that have the file extension of .txt?"
   ]
  },
  {
   "cell_type": "code",
   "execution_count": 61,
   "metadata": {},
   "outputs": [
    {
     "name": "stdout",
     "output_type": "stream",
     "text": [
      "/Users/linkuanyu/Desktop/python-nlp-assignment/example.txt\n"
     ]
    }
   ],
   "source": [
    "import glob\n",
    "for name in glob.glob('/Users/linkuanyu/Desktop/python-nlp-assignment/*.txt'): \n",
    "    print(name)"
   ]
  },
  {
   "cell_type": "raw",
   "metadata": {},
   "source": [
    "1.11.\n",
    "Use control structures of for-loop and if-condition to identify the elements from the list below whose values are divisible by 13 but are not a multiple of 5.\n",
    "\n",
    "    numbers = range(100,200)\n",
    "\n",
    "The expected results:\n",
    "\n",
    "    104\n",
    "    117\n",
    "    143\n",
    "    156\n",
    "    169\n",
    "    182"
   ]
  },
  {
   "cell_type": "code",
   "execution_count": 65,
   "metadata": {},
   "outputs": [
    {
     "name": "stdout",
     "output_type": "stream",
     "text": [
      "104\n",
      "117\n",
      "143\n",
      "156\n",
      "169\n",
      "182\n"
     ]
    }
   ],
   "source": [
    "numbers = range(100,200)\n",
    "for n in numbers:\n",
    "    if n % 13 == 0 and n % 5 != 0:\n",
    "        print(n)"
   ]
  },
  {
   "cell_type": "raw",
   "metadata": {},
   "source": [
    "1.12.\n",
    "To achieve the same goal as specified in the previous question, please re-write the script with only one line utilizing the list comprehension in python.\n",
    "\n",
    "For example:\n",
    "\n",
    "    numbers = range(100,200)\n",
    "    [XXXXXX number XXXXX] # list comprehension\n",
    "\n",
    "The expected results are as follows:\n",
    "\n",
    "    [104, 117, 143, 156, 169, 182]"
   ]
  },
  {
   "cell_type": "code",
   "execution_count": 66,
   "metadata": {},
   "outputs": [
    {
     "name": "stdout",
     "output_type": "stream",
     "text": [
      "[104, 117, 143, 156, 169, 182]\n"
     ]
    }
   ],
   "source": [
    "numbers = range(100,200)\n",
    "print([n for n in numbers if n % 13 == 0 and n % 5 != 0])"
   ]
  },
  {
   "cell_type": "raw",
   "metadata": {},
   "source": [
    "1.13.\n",
    "Given a list of tuples as shown below, please sort the list according to the second value of the tuples by descending order. If the second values are the same, the next sorting criterion is based on the third values of the tuples. Please note that the first value is a string while the rest should be converted to numbers before sorting.\n",
    "\n",
    "The input list:\n",
    "\n",
    "    data= [('John', '20', '90'), ('Jony', '17', '91'), ('Jony', '17', '93'), ('Json', '21', '85'), ('Tom', '19', '80')]\n",
    "\n",
    "The expected results:\n",
    "\n",
    "[('Json', '21', '85'),\n",
    " ('John', '20', '90'),\n",
    " ('Tom', '19', '80'),\n",
    " ('Jony', '17', '93'),\n",
    " ('Jony', '17', '91')]"
   ]
  },
  {
   "cell_type": "code",
   "execution_count": 90,
   "metadata": {},
   "outputs": [
    {
     "name": "stdout",
     "output_type": "stream",
     "text": [
      "Data sorted by second values, or third values: [('Json', '21', '85'), ('John', '20', '90'), ('Tom', '19', '80'), ('Jony', '17', '93'), ('Jony', '17', '91')]\n"
     ]
    }
   ],
   "source": [
    "data= [('John', '20', '90'), ('Jony', '17', '91'), ('Jony', '17', '93'), ('Json', '21', '85'), ('Tom', '19', '80')]\n",
    "\n",
    "sortedData = sorted(data, key = lambda d: (d[1], d[2]), reverse = True)\n",
    "print(\"Data sorted by second values, or third values: {}\".format(sortedData))"
   ]
  },
  {
   "cell_type": "raw",
   "metadata": {},
   "source": [
    "1.14.\n",
    "Define a function which can iterate the numbers, which are divisible by 13, between a given range 0 and n, and print all numbers in one line, separated by commas.\n",
    "\n",
    "Expected outputs of generateNumbers(100):\n",
    "\n",
    "    0,13,26,39,52,65,78,91"
   ]
  },
  {
   "cell_type": "code",
   "execution_count": 93,
   "metadata": {},
   "outputs": [
    {
     "name": "stdout",
     "output_type": "stream",
     "text": [
      "0,13,26,39,52,65,78,91,"
     ]
    }
   ],
   "source": [
    "def generateNumbers(n):\n",
    "    for n in range(0, n):\n",
    "        if n % 13 == 0:\n",
    "            print(n, end = \",\")\n",
    "        else:\n",
    "            n =+ 1\n",
    "            \n",
    "generateNumbers(100)"
   ]
  },
  {
   "cell_type": "raw",
   "metadata": {},
   "source": [
    "1.15.\n",
    "Write a program which accepts the following sequence of words separated by whitespace as input and print the words composed of digits only.\n",
    "\n",
    "    s = '2 cats and 3 dogs.'\n",
    "\n",
    "The expected output:\n",
    "\n",
    "    ['2', '3']"
   ]
  },
  {
   "cell_type": "code",
   "execution_count": 104,
   "metadata": {},
   "outputs": [
    {
     "name": "stdout",
     "output_type": "stream",
     "text": [
      "['2', '3']\n"
     ]
    }
   ],
   "source": [
    "s = '2 cats and 3 dogs.'\n",
    "digitS = {}\n",
    "digitS = [i for i in s if i.isdigit()]\n",
    "print(digitS)"
   ]
  },
  {
   "cell_type": "raw",
   "metadata": {},
   "source": [
    "1.16.\n",
    "Define a function which can compute the sum of two numbers.\n",
    "\n",
    "For example, you define a function addNums():\n",
    "\n",
    "The expected results of addNums(1,4):\n",
    "\n",
    "    5"
   ]
  },
  {
   "cell_type": "code",
   "execution_count": 106,
   "metadata": {},
   "outputs": [
    {
     "data": {
      "text/plain": [
       "5"
      ]
     },
     "execution_count": 106,
     "metadata": {},
     "output_type": "execute_result"
    }
   ],
   "source": [
    "def addNums(a, b):\n",
    "    return a + b\n",
    "addNums(1, 4)"
   ]
  },
  {
   "cell_type": "raw",
   "metadata": {},
   "source": [
    "1.17.\n",
    "Write a program that accepts as input a long string, where a series of words are separated by commas and prints the words in a comma-separated sequence after sorting them alphabetically.\n",
    "\n",
    "The input long string:\n",
    "\n",
    "    s = \"without,hello,bag,world\"\n",
    "\n",
    "The expected output:\n",
    "\n",
    "    bag,hello,without,world"
   ]
  },
  {
   "cell_type": "code",
   "execution_count": 115,
   "metadata": {},
   "outputs": [
    {
     "data": {
      "text/plain": [
       "['bag', 'hello', 'without', 'world']"
      ]
     },
     "execution_count": 115,
     "metadata": {},
     "output_type": "execute_result"
    }
   ],
   "source": [
    "s = \"without,hello,bag,world\"\n",
    "sorted(s.split(\",\"))"
   ]
  },
  {
   "cell_type": "raw",
   "metadata": {},
   "source": [
    "1.18.\n",
    "Write a program that accepts an input string and computes the total number of upper case letters and lower case letters in the entire string.\n",
    "\n",
    "The input string:\n",
    "    s = \"\"\"\n",
    "    Hello world!\n",
    "    Then, the output should be:\n",
    "    UPPER CASE 1\n",
    "    LOWER CASE 9\n",
    "    \"\"\"\n",
    "    \n",
    "The expected Outputs:\n",
    "    UPPER CASE: 20\n",
    "    LOWER CASE: 29"
   ]
  },
  {
   "cell_type": "code",
   "execution_count": 119,
   "metadata": {},
   "outputs": [
    {
     "name": "stdout",
     "output_type": "stream",
     "text": [
      "UPPER CASE: 20\n",
      "LOWER CASE: 29\n"
     ]
    }
   ],
   "source": [
    "s = \"\"\"\n",
    "    Hello world!\n",
    "    Then, the output should be:\n",
    "    UPPER CASE 1\n",
    "    LOWER CASE 9\n",
    "    \"\"\"\n",
    "\n",
    "import re\n",
    "print('UPPER CASE: {}'.format(len(re.findall(r'[A-Z]', s))))\n",
    "print('LOWER CASE: {}'.format(len(re.findall(r'[a-z]', s))))"
   ]
  },
  {
   "cell_type": "raw",
   "metadata": {},
   "source": [
    "1.19.\n",
    "Explain what the following code chunk is doing in your own words step by step (i.e., line by line). Please paraphrase the scripts as clearly as possible.\n",
    "    \n",
    "    li = [1,2,3,4,5,6,7,8,9,10]\n",
    "    evenNumbers = map(lambda x: x**2, filter(lambda x: x%2==0, li))\n",
    "    [n for n in evenNumbers]\n",
    "    \n",
    "    [4, 16, 36, 64, 100]"
   ]
  },
  {
   "cell_type": "code",
   "execution_count": null,
   "metadata": {},
   "outputs": [],
   "source": [
    "# It's a list.\n",
    "li = [1,2,3,4,5,6,7,8,9,10]\n",
    "# filter() identifies the all the even numbers. Even numbers are stored as iterable in map().\n",
    "# map() excutes lambda for each item in the result of filter(). Each item in the result will raise to the power of 2.\n",
    "evenNumbers = map(lambda x: x**2, filter(lambda x: x%2==0, li))\n",
    "# returen all the items in evenNumbers\n",
    "[n for n in evenNumbers]"
   ]
  },
  {
   "cell_type": "raw",
   "metadata": {},
   "source": [
    "1.20.\n",
    "Write a program that accepts a long string and identifies strings that are possibly emails.\n",
    "\n",
    "The input string:\n",
    "    s = \"\"\"\n",
    "    This is a short text with example@ntnu.edu.tw emails that we will use as@gmail.com examples. Some emails are complex like alvin-chen@my_domain.org and some sentences do not have any email address, like the emoticon here --> @.@.\n",
    "    \"\"\"\n",
    "The expected output:\n",
    "    ['example@ntnu.edu.tw', 'as@gmail.com', 'alvin-chen@my_domain.org']"
   ]
  },
  {
   "cell_type": "code",
   "execution_count": 157,
   "metadata": {},
   "outputs": [
    {
     "name": "stdout",
     "output_type": "stream",
     "text": [
      "['example@ntnu.edu.tw', 'as@gmail.com', 'alvin-chen@my_domain.org']\n"
     ]
    }
   ],
   "source": [
    "import re\n",
    "s = \"\"\"\n",
    "    This is a short text with example@ntnu.edu.tw emails that we will use as@gmail.com examples. Some emails are complex like alvin-chen@my_domain.org and some sentences do not have any email address, like the emoticon here --> @.@.\n",
    "    \"\"\"\n",
    "\n",
    "email = []\n",
    "[email.append(e) for e in re.findall('\\S+@\\S+', s) if e.count(\"@\") == 1]\n",
    "\n",
    "print(email)"
   ]
  }
 ],
 "metadata": {
  "kernelspec": {
   "display_name": "Python 3",
   "language": "python",
   "name": "python3"
  },
  "language_info": {
   "codemirror_mode": {
    "name": "ipython",
    "version": 3
   },
   "file_extension": ".py",
   "mimetype": "text/x-python",
   "name": "python",
   "nbconvert_exporter": "python",
   "pygments_lexer": "ipython3",
   "version": "3.7.4"
  }
 },
 "nbformat": 4,
 "nbformat_minor": 2
}
