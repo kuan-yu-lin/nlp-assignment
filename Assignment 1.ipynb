{
 "cells": [
  {
   "cell_type": "raw",
   "id": "6c6c0595",
   "metadata": {},
   "source": [
    "1.1. ¶\n",
    "What are the core default modules available in Python? List down a few of them and explain their functionalities."
   ]
  },
  {
   "cell_type": "code",
   "execution_count": 1,
   "id": "7b4ab4ee",
   "metadata": {},
   "outputs": [
    {
     "name": "stdout",
     "output_type": "stream",
     "text": [
      "\n",
      "Please wait a moment while I gather a list of all available modules...\n",
      "\n"
     ]
    },
    {
     "name": "stderr",
     "output_type": "stream",
     "text": [
      "/Users/linkuanyu/opt/anaconda3/lib/python3.7/site-packages/IPython/kernel/__init__.py:13: ShimWarning: The `IPython.kernel` package has been deprecated since IPython 4.0.You should import from ipykernel or jupyter_client instead.\n",
      "  \"You should import from ipykernel or jupyter_client instead.\", ShimWarning)\n",
      "/Users/linkuanyu/opt/anaconda3/lib/python3.7/site-packages/nltk/app/__init__.py:46: UserWarning: nltk.app.wordfreq not loaded (requires the matplotlib library).\n",
      "  \"nltk.app.wordfreq not loaded \" \"(requires the matplotlib library).\"\n",
      "/Users/linkuanyu/opt/anaconda3/lib/python3.7/site-packages/nltk/twitter/__init__.py:22: UserWarning: The twython library has not been installed. Some functionality from the twitter package will not be available.\n",
      "  \"The twython library has not been installed. \"\n"
     ]
    },
    {
     "name": "stdout",
     "output_type": "stream",
     "text": [
      "IPython             autoreload          joblib              ruamel_yaml\n",
      "OpenSSL             babel               json                runpy\n",
      "PIL                 backcall            json5               sched\n",
      "PyQt5               backports           jsonschema          scripts\n",
      "__future__          base64              jupyter             secrets\n",
      "_abc                bdb                 jupyter_client      select\n",
      "_ast                binascii            jupyter_core        selectors\n",
      "_asyncio            binhex              jupyter_packaging   send2trash\n",
      "_bisect             binstar_client      jupyter_server      setuptools\n",
      "_blake2             bisect              jupyterlab          shelve\n",
      "_bootlocale         bleach              jupyterlab_pygments shlex\n",
      "_bz2                blis                jupyterlab_server   shutil\n",
      "_cffi_backend       brotli              jupyterlab_widgets  signal\n",
      "_codecs             bs4                 keyword             sip\n",
      "_codecs_cn          builtins            lib2to3             sipconfig\n",
      "_codecs_hk          bz2                 libarchive          sipdistutils\n",
      "_codecs_iso2022     cProfile            libfuturize         site\n",
      "_codecs_jp          calendar            libpasteurize       six\n",
      "_codecs_kr          catalogue           lief                smart_open\n",
      "_codecs_tw          certifi             linecache           smtpd\n",
      "_collections        cffi                locale              smtplib\n",
      "_collections_abc    cgi                 logging             sndhdr\n",
      "_compat_pickle      cgitb               lzma                sniffio\n",
      "_compression        chardet             macpath             socket\n",
      "_contextvars        chunk               mailbox             socketserver\n",
      "_crypt              click               mailcap             socks\n",
      "_csv                clyent              markupsafe          sockshandler\n",
      "_ctypes             cmath               marshal             soupsieve\n",
      "_ctypes_test        cmd                 math                spacy\n",
      "_curses             code                mimetypes           spacy_legacy\n",
      "_curses_panel       codecs              mistune             sqlite3\n",
      "_datetime           codeop              mmap                sre_compile\n",
      "_dbm                collections         modulefinder        sre_constants\n",
      "_decimal            colorsys            multiprocessing     sre_parse\n",
      "_distutils_hack     compileall          murmurhash          srsly\n",
      "_dummy_thread       concurrent          navigator_updater   ssl\n",
      "_elementtree        conda               nbclassic           stat\n",
      "_functools          conda_build         nbclient            statistics\n",
      "_hashlib            conda_env           nbconvert           storemagic\n",
      "_heapq              conda_package_handling nbformat            string\n",
      "_imp                conda_verify        nest_asyncio        stringprep\n",
      "_io                 configparser        netrc               struct\n",
      "_json               contextlib          nis                 subprocess\n",
      "_locale             contextvars         nltk                sunau\n",
      "_lsprof             copy                nntplib             symbol\n",
      "_lzma               copyreg             notebook            sympyprinting\n",
      "_markupbase         crypt               ntpath              symtable\n",
      "_md5                cryptography        nturl2path          sys\n",
      "_multibytecodec     csv                 numbers             sysconfig\n",
      "_multiprocessing    ctypes              numpy               syslog\n",
      "_opcode             curses              olefile             tabnanny\n",
      "_operator           cymem               opcode              tarfile\n",
      "_osx_support        cythonmagic         operator            telnetlib\n",
      "_pickle             dataclasses         optparse            tempfile\n",
      "_posixsubprocess    datetime            os                  terminado\n",
      "_py_abc             dateutil            packaging           termios\n",
      "_pydecimal          dbm                 pandas              test\n",
      "_pyio               decimal             pandocfilters       test_data\n",
      "_pyrsistent_version decorator           parser              test_pycosat\n",
      "_queue              defusedxml          parso               testpath\n",
      "_random             difflib             past                tests\n",
      "_scproxy            dis                 pathlib             textwrap\n",
      "_sha1               distutils           pathy               thinc\n",
      "_sha256             doctest             pdb                 this\n",
      "_sha3               dummy_threading     pexpect             threading\n",
      "_sha512             email               pickle              time\n",
      "_signal             encodings           pickleshare         timeit\n",
      "_sitebuiltins       ensurepip           pickletools         tkinter\n",
      "_socket             entrypoints         pip                 token\n",
      "_sqlite3            enum                pipes               tokenize\n",
      "_sre                errno               pkg_resources       tornado\n",
      "_ssl                faulthandler        pkginfo             tqdm\n",
      "_stat               fcntl               pkgutil             trace\n",
      "_string             filecmp             platform            traceback\n",
      "_strptime           fileinput           plistlib            tracemalloc\n",
      "_struct             filelock            poplib              traitlets\n",
      "_symtable           fnmatch             posix               tty\n",
      "_sysconfigdata_i686_conda_cos6_linux_gnu formatter           posixpath           turtle\n",
      "_sysconfigdata_m_darwin_darwin fractions           pprint              turtledemo\n",
      "_sysconfigdata_powerpc64le_conda_cos7_linux_gnu ftplib              preshed             typer\n",
      "_sysconfigdata_x86_64_apple_darwin13_4_0 functools           profile             types\n",
      "_sysconfigdata_x86_64_conda_cos6_linux_gnu future              prometheus_client   typing\n",
      "_testbuffer         gc                  prompt_toolkit      typing_extensions\n",
      "_testcapi           genericpath         pstats              unicodedata\n",
      "_testimportmultiple getopt              psutil              unittest\n",
      "_testmultiphase     getpass             pty                 urllib\n",
      "_thread             gettext             ptyprocess          urllib3\n",
      "_threading_local    glob                pvectorc            uu\n",
      "_tkinter            glob2               pwd                 uuid\n",
      "_tracemalloc        grp                 py_compile          venv\n",
      "_uuid               gzip                pyclbr              warnings\n",
      "_warnings           hashlib             pycosat             wasabi\n",
      "_weakref            heapq               pycparser           wave\n",
      "_weakrefset         hmac                pydantic            wcwidth\n",
      "_xxtestfuzz         html                pydoc               weakref\n",
      "_yaml               http                pydoc_data          webbrowser\n",
      "abc                 idlelib             pyexpat             webencodings\n",
      "aifc                idna                pygments            wheel\n",
      "anaconda_navigator  imaplib             pyparsing           widgetsnbextension\n",
      "antigravity         imghdr              pyrsistent          wsgiref\n",
      "anyio               imp                 pytz                xdrlib\n",
      "appnope             importlib           qtpy                xml\n",
      "argon2              importlib_metadata  queue               xmlrpc\n",
      "argparse            inspect             quopri              xmltodict\n",
      "array               io                  random              xxlimited\n",
      "ast                 ipaddress           re                  xxsubtype\n",
      "async_generator     ipykernel           readline            yaml\n",
      "asynchat            ipykernel_launcher  regex               zipapp\n",
      "asyncio             ipython_genutils    reprlib             zipfile\n",
      "asyncore            ipywidgets          requests            zipimport\n",
      "atexit              itertools           resource            zipp\n",
      "attr                jedi                rlcompleter         zlib\n",
      "audioop             jinja2              rmagic              zmq\n",
      "\n",
      "Enter any module name to get more help.  Or, type \"modules spam\" to search\n",
      "for modules whose name or summary contain the string \"spam\".\n",
      "\n"
     ]
    },
    {
     "name": "stderr",
     "output_type": "stream",
     "text": [
      "/Users/linkuanyu/opt/anaconda3/lib/python3.7/pkgutil.py:107: VisibleDeprecationWarning: zmq.eventloop.minitornado is deprecated in pyzmq 14.0 and will be removed.\n",
      "    Install tornado itself to use zmq with the tornado IOLoop.\n",
      "    \n",
      "  yield from walk_packages(path, info.name+'.', onerror)\n"
     ]
    }
   ],
   "source": [
    "help('modules')"
   ]
  },
  {
   "cell_type": "raw",
   "id": "15d2a205",
   "metadata": {},
   "source": [
    "1.2. ¶\n",
    "Assuming that you have not installed the modulel numpy in your system. How to install the module?"
   ]
  },
  {
   "cell_type": "code",
   "execution_count": 2,
   "id": "834dd8a1",
   "metadata": {},
   "outputs": [],
   "source": [
    "# CMD\n",
    "# pip install numpy"
   ]
  },
  {
   "cell_type": "raw",
   "id": "b79f9cd9",
   "metadata": {},
   "source": [
    "1.3. ¶\n",
    "In Jupyter Notebook, how to get the documentation for the python objects you are working with?"
   ]
  },
  {
   "cell_type": "code",
   "execution_count": 3,
   "id": "7d36db4b",
   "metadata": {},
   "outputs": [],
   "source": [
    "# use help() function"
   ]
  },
  {
   "cell_type": "raw",
   "id": "75fdd97a",
   "metadata": {},
   "source": [
    "1.4. ¶\n",
    "Demonstrate how to subset and slice a list in Python with examples."
   ]
  },
  {
   "cell_type": "code",
   "execution_count": 4,
   "id": "428ccc2f",
   "metadata": {},
   "outputs": [
    {
     "name": "stdout",
     "output_type": "stream",
     "text": [
      "['grava', 'peach']\n"
     ]
    }
   ],
   "source": [
    "fruit = ['orange', 'banana', 'grava', 'peach', 'apple']\n",
    "subset_fruit = fruit[2:4]\n",
    "print(subset_fruit)"
   ]
  },
  {
   "cell_type": "raw",
   "id": "2ffec88e",
   "metadata": {},
   "source": [
    "1.5. ¶\n",
    "What are the different ways to generate random numbers? Demonstrate at least the following two ways of random number generation.\n",
    "\n",
    "Generate a random number between 0 and 1\n",
    "Generate a random integer between 0 and 100"
   ]
  },
  {
   "cell_type": "code",
   "execution_count": 5,
   "id": "cef88def",
   "metadata": {},
   "outputs": [
    {
     "name": "stdout",
     "output_type": "stream",
     "text": [
      "0.549909469763528\n",
      "38\n"
     ]
    }
   ],
   "source": [
    "import random\n",
    "random_num = random.uniform(0, 1)\n",
    "random_int = random.randint(0, 100)\n",
    "print(random_num)\n",
    "print(random_int)"
   ]
  },
  {
   "cell_type": "raw",
   "id": "e9fed488",
   "metadata": {},
   "source": [
    "1.6. ¶\n",
    "A dict is provided below. Please demonstrate how to sort the dictionary by (a) its key, and (b) its values in an descending order.\n",
    "\n",
    "example = {'e':10, 'a':22, 'h':17}\n",
    "The expected results:\n",
    "\n",
    "## According to key:\n",
    "[('h', 17), ('e', 10), ('a', 22)]\n",
    "## According to value:\n",
    "[('a', 22), ('h', 17), ('e', 10)]"
   ]
  },
  {
   "cell_type": "code",
   "execution_count": 6,
   "id": "0857eed2",
   "metadata": {},
   "outputs": [
    {
     "name": "stdout",
     "output_type": "stream",
     "text": [
      "[('h', 17), ('e', 10), ('a', 22)]\n",
      "[('a', 22), ('h', 17), ('e', 10)]\n"
     ]
    }
   ],
   "source": [
    "example = {'e':10, 'a':22, 'h':17}\n",
    "\n",
    "sorted_key = sorted(example.items(), reverse = True)\n",
    "sorted_value = sorted(example.items(), key = lambda d: d[1], reverse = True)\n",
    "\n",
    "print(sorted_key)\n",
    "print(sorted_value)"
   ]
  },
  {
   "cell_type": "raw",
   "id": "6e27c3b5",
   "metadata": {},
   "source": [
    "1.7. ¶\n",
    "How do we remove the duplicate elements from the list given below?\n",
    "\n",
    "words = [‘one’, ‘one’, ‘two’, ‘three’, ‘three’, ‘two’]\n",
    "The expected output:\n",
    "\n",
    "['two', 'one', 'three']"
   ]
  },
  {
   "cell_type": "code",
   "execution_count": 7,
   "id": "18350692",
   "metadata": {},
   "outputs": [
    {
     "name": "stdout",
     "output_type": "stream",
     "text": [
      "['one', 'two', 'three']\n"
     ]
    }
   ],
   "source": [
    "words = ['one', 'one', 'two', 'three', 'three', 'two']\n",
    "\n",
    "new_words = []\n",
    "for i in words:\n",
    "    if i not in new_words:\n",
    "        new_words.append(i)\n",
    "        \n",
    "print(new_words)"
   ]
  },
  {
   "cell_type": "raw",
   "id": "252096f9",
   "metadata": {},
   "source": [
    "1.8. ¶\n",
    "How to convert the strings 123 and 456.6 into numbers?"
   ]
  },
  {
   "cell_type": "code",
   "execution_count": 8,
   "id": "8eec53e6",
   "metadata": {},
   "outputs": [
    {
     "data": {
      "text/plain": [
       "123"
      ]
     },
     "execution_count": 8,
     "metadata": {},
     "output_type": "execute_result"
    }
   ],
   "source": [
    "int(\"123\")"
   ]
  },
  {
   "cell_type": "code",
   "execution_count": 9,
   "id": "f47d3428",
   "metadata": {},
   "outputs": [
    {
     "data": {
      "text/plain": [
       "456.6"
      ]
     },
     "execution_count": 9,
     "metadata": {},
     "output_type": "execute_result"
    }
   ],
   "source": [
    "float('456.6')"
   ]
  },
  {
   "cell_type": "raw",
   "id": "5cf74add",
   "metadata": {},
   "source": [
    "1.9. ¶\n",
    "How to get the full path to the current working directory of your project in Python?"
   ]
  },
  {
   "cell_type": "code",
   "execution_count": 10,
   "id": "d18c1051",
   "metadata": {},
   "outputs": [
    {
     "data": {
      "text/plain": [
       "'/Users/linkuanyu/Desktop/python-nlp-assignment/nlp-assignment'"
      ]
     },
     "execution_count": 10,
     "metadata": {},
     "output_type": "execute_result"
    }
   ],
   "source": [
    "import os\n",
    "os.getcwd()"
   ]
  },
  {
   "cell_type": "raw",
   "id": "a167bf13",
   "metadata": {},
   "source": [
    "1.10. ¶\n",
    "How to get all the names of the files in the current working directory that have the file extension of .txt?"
   ]
  },
  {
   "cell_type": "code",
   "execution_count": 11,
   "id": "b521c277",
   "metadata": {},
   "outputs": [
    {
     "name": "stdout",
     "output_type": "stream",
     "text": [
      "/Users/linkuanyu/Desktop/python-nlp-assignment/nlp-assignment/example.txt\n"
     ]
    }
   ],
   "source": [
    "import glob\n",
    "for name in glob.glob('/Users/linkuanyu/Desktop/python-nlp-assignment/nlp-assignment/*.txt'):\n",
    "    print(name)"
   ]
  },
  {
   "cell_type": "raw",
   "id": "3cf3ee35",
   "metadata": {},
   "source": [
    "1.11. ¶\n",
    "Use control structures of for-loop and if-condition to identify the elements from the list below whose values are divisible by 13 but are not a multiple of 5.\n",
    "\n",
    "numbers = range(100,200)\n",
    "The expected results:\n",
    "\n",
    "104\n",
    "117\n",
    "143\n",
    "156\n",
    "169\n",
    "182"
   ]
  },
  {
   "cell_type": "code",
   "execution_count": 12,
   "id": "2ebace65",
   "metadata": {},
   "outputs": [
    {
     "name": "stdout",
     "output_type": "stream",
     "text": [
      "104\n",
      "117\n",
      "143\n",
      "156\n",
      "169\n",
      "182\n"
     ]
    }
   ],
   "source": [
    "numbers = range(100,200)\n",
    "\n",
    "for number in numbers:\n",
    "    if number%13 == 0 and number%5 != 0:\n",
    "        print(number)"
   ]
  },
  {
   "cell_type": "raw",
   "id": "0611ac85",
   "metadata": {},
   "source": [
    "1.12. ¶\n",
    "To achieve the same goal as specified in the previous question, please re-write the script with only one line utilizing the list comprehension in python.\n",
    "\n",
    "For example:\n",
    "\n",
    "numbers = range(100,200)\n",
    "[XXXXXX number XXXXX] # list comprehension\n",
    "The expected results are as follows:\n",
    "\n",
    "[104, 117, 143, 156, 169, 182]"
   ]
  },
  {
   "cell_type": "code",
   "execution_count": 13,
   "id": "d50f7820",
   "metadata": {},
   "outputs": [
    {
     "data": {
      "text/plain": [
       "[104, 117, 143, 156, 169, 182]"
      ]
     },
     "execution_count": 13,
     "metadata": {},
     "output_type": "execute_result"
    }
   ],
   "source": [
    "numbers = range(100,200)\n",
    "\n",
    "[number for number in numbers if number%13 == 0 and number%5 != 0]"
   ]
  },
  {
   "cell_type": "raw",
   "id": "c184820a",
   "metadata": {},
   "source": [
    "1.13. ¶\n",
    "Given a list of tuples as shown below, please sort the list according to the second value of the tuples by descending order. If the second values are the same, the next sorting criterion is based on the third values of the tuples. Please note that the first value is a string while the rest should be converted to numbers before sorting.\n",
    "\n",
    "The input list:\n",
    "\n",
    "data= [('John', '20', '90'), ('Jony', '17', '91'), ('Jony', '17', '93'), ('Json', '21', '85'), ('Tom', '19', '80')]\n",
    "The expected results:\n",
    "\n",
    "[('Json', '21', '85'),\n",
    " ('John', '20', '90'),\n",
    " ('Tom', '19', '80'),\n",
    " ('Jony', '17', '93'),\n",
    " ('Jony', '17', '91')]"
   ]
  },
  {
   "cell_type": "code",
   "execution_count": 14,
   "id": "67ddf545",
   "metadata": {},
   "outputs": [
    {
     "name": "stdout",
     "output_type": "stream",
     "text": [
      "[('Json', '21', '85'), ('John', '20', '90'), ('Tom', '19', '80'), ('Jony', '17', '93'), ('Jony', '17', '91')]\n"
     ]
    }
   ],
   "source": [
    "data= [('John', '20', '90'), ('Jony', '17', '91'), ('Jony', '17', '93'), ('Json', '21', '85'), ('Tom', '19', '80')]\n",
    "\n",
    "sorted_data = sorted(data, key = lambda t: (t[1], t[2]), reverse = True)\n",
    "\n",
    "print(sorted_data)"
   ]
  },
  {
   "cell_type": "raw",
   "id": "2bdcbe24",
   "metadata": {},
   "source": [
    "1.14. ¶\n",
    "Define a function which can iterate the numbers, which are divisible by 13, between a given range 0 and n, and print all numbers in one line, separated by commas.\n",
    "\n",
    "Expected outputs of generateNumbers(100):\n",
    "\n",
    "0,13,26,39,52,65,78,91"
   ]
  },
  {
   "cell_type": "code",
   "execution_count": 15,
   "id": "17e21bd0",
   "metadata": {},
   "outputs": [
    {
     "name": "stdout",
     "output_type": "stream",
     "text": [
      "0,13,26,39,52,65,78,91,"
     ]
    }
   ],
   "source": [
    "def generateNumbers(n):\n",
    "    for n in range(0, n+1):\n",
    "        if n%13 == 0:\n",
    "            print(n, end = \",\")\n",
    "generateNumbers(100)"
   ]
  },
  {
   "cell_type": "raw",
   "id": "d0148c48",
   "metadata": {},
   "source": [
    "1.15. ¶\n",
    "Write a program which accepts the following sequence of words separated by whitespace as input and print the words composed of digits only.\n",
    "\n",
    "s = '2 cats and 3 dogs.'\n",
    "The expected output:\n",
    "\n",
    "['2', '3']"
   ]
  },
  {
   "cell_type": "code",
   "execution_count": 16,
   "id": "49891e9f",
   "metadata": {},
   "outputs": [
    {
     "name": "stdout",
     "output_type": "stream",
     "text": [
      "['2', '3']\n"
     ]
    }
   ],
   "source": [
    "s = '2 cats and 3 dogs.'\n",
    "digit_s = [d for d in s if d.isdigit()]\n",
    "print(digit_s)"
   ]
  },
  {
   "cell_type": "raw",
   "id": "a5ee4b2f",
   "metadata": {},
   "source": [
    "1.16. ¶\n",
    "Define a function which can compute the sum of two numbers.\n",
    "\n",
    "For example, you define a function addNums():\n",
    "\n",
    "The expected results of addNums(1,4):\n",
    "\n",
    "5"
   ]
  },
  {
   "cell_type": "code",
   "execution_count": 17,
   "id": "a23aa586",
   "metadata": {},
   "outputs": [
    {
     "data": {
      "text/plain": [
       "5"
      ]
     },
     "execution_count": 17,
     "metadata": {},
     "output_type": "execute_result"
    }
   ],
   "source": [
    "def addNums(a, b):\n",
    "    return a + b\n",
    "addNums(1,4)"
   ]
  },
  {
   "cell_type": "raw",
   "id": "b91f451d",
   "metadata": {},
   "source": [
    "1.17. ¶\n",
    "Write a program that accepts as input a long string, where a series of words are separated by commas and prints the words in a comma-separated sequence after sorting them alphabetically.\n",
    "\n",
    "The input long string:\n",
    "\n",
    "s = \"without,hello,bag,world\"\n",
    "The expected output:\n",
    "\n",
    "bag,hello,without,world"
   ]
  },
  {
   "cell_type": "code",
   "execution_count": 18,
   "id": "1df5b714",
   "metadata": {},
   "outputs": [
    {
     "name": "stdout",
     "output_type": "stream",
     "text": [
      "bag,hello,without,world\n"
     ]
    }
   ],
   "source": [
    "s = \"without,hello,bag,world\"\n",
    "sortedS = sorted(s.split(\",\"))\n",
    "print(\",\".join(sortedS))"
   ]
  },
  {
   "cell_type": "raw",
   "id": "44493c3a",
   "metadata": {},
   "source": [
    "1.18. ¶\n",
    "Write a program that accepts an input string and computes the total number of upper case letters and lower case letters in the entire string.\n",
    "\n",
    "The input string:\n",
    "\n",
    "\n",
    "s = \"\"\"\n",
    "Hello world!\n",
    "Then, the output should be:\n",
    "UPPER CASE 1\n",
    "LOWER CASE 9\n",
    "\"\"\"\n",
    "The expected Outputs:\n",
    "\n",
    "UPPER CASE: 20\n",
    "LOWER CASE: 29"
   ]
  },
  {
   "cell_type": "code",
   "execution_count": 19,
   "id": "ca44cdf6",
   "metadata": {},
   "outputs": [
    {
     "name": "stdout",
     "output_type": "stream",
     "text": [
      "UPPER CASE: 20\n",
      "LOWER CASE: 29\n"
     ]
    }
   ],
   "source": [
    "s = \"\"\"\n",
    "Hello world!\n",
    "Then, the output should be:\n",
    "UPPER CASE 1\n",
    "LOWER CASE 9\n",
    "\"\"\"\n",
    "upperNums = len([u for u in s if u.isupper()])\n",
    "lowerNums = len([l for l in s if l.islower()])\n",
    "\n",
    "print(\"UPPER CASE: {}\".format(upperNums))\n",
    "print(\"LOWER CASE: {}\".format(lowerNums))"
   ]
  },
  {
   "cell_type": "raw",
   "id": "a79e970e",
   "metadata": {},
   "source": [
    "1.19. ¶\n",
    "Explain what the following code chunk is doing in your own words step by step (i.e., line by line). Please paraphrase the scripts as clearly as possible.\n",
    "\n",
    "li = [1,2,3,4,5,6,7,8,9,10]\n",
    "evenNumbers = map(lambda x: x**2, filter(lambda x: x%2==0, li))\n",
    "[n for n in evenNumbers]\n",
    "[4, 16, 36, 64, 100]"
   ]
  },
  {
   "cell_type": "raw",
   "id": "36568c2b",
   "metadata": {},
   "source": [
    "1.20. ¶\n",
    "Write a program that accepts a long string and identifies strings that are possibly emails.\n",
    "\n",
    "The input string:\n",
    "\n",
    "s = \"\"\"\n",
    "This is a short text with example@ntnu.edu.tw emails that we will use as@gmail.com examples. Some emails are complex like alvin-chen@my_domain.org and some sentences do not have any email address, like the emoticon here --> @.@.\n",
    "\"\"\"\n",
    "The expected output:\n",
    "\n",
    "['example@ntnu.edu.tw', 'as@gmail.com', 'alvin-chen@my_domain.org']"
   ]
  },
  {
   "cell_type": "code",
   "execution_count": 20,
   "id": "05501579",
   "metadata": {},
   "outputs": [
    {
     "name": "stdout",
     "output_type": "stream",
     "text": [
      "example@ntnu.edu.tw\n",
      "as@gmail.com\n",
      "alvin-chen@my_domain.org\n"
     ]
    },
    {
     "data": {
      "text/plain": [
       "[None, None, None]"
      ]
     },
     "execution_count": 20,
     "metadata": {},
     "output_type": "execute_result"
    }
   ],
   "source": [
    "import re\n",
    "s = \"\"\"\n",
    "This is a short text with example@ntnu.edu.tw emails that we will use as@gmail.com examples. Some emails are complex like alvin-chen@my_domain.org and some sentences do not have any email address, like the emoticon here --> @.@.\n",
    "\"\"\"\n",
    "\n",
    "emailPattern = re.compile(r'\\S+@\\S+')\n",
    "rawEmail = emailPattern.findall(s)\n",
    "\n",
    "[print(email) for email in rawEmail if email.count(\"@\") == 1]"
   ]
  },
  {
   "cell_type": "code",
   "execution_count": null,
   "id": "acb83337",
   "metadata": {},
   "outputs": [],
   "source": []
  }
 ],
 "metadata": {
  "kernelspec": {
   "display_name": "Python 3",
   "language": "python",
   "name": "python3"
  },
  "language_info": {
   "codemirror_mode": {
    "name": "ipython",
    "version": 3
   },
   "file_extension": ".py",
   "mimetype": "text/x-python",
   "name": "python",
   "nbconvert_exporter": "python",
   "pygments_lexer": "ipython3",
   "version": "3.7.4"
  }
 },
 "nbformat": 4,
 "nbformat_minor": 5
}
